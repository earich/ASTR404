{
 "cells": [
  {
   "cell_type": "markdown",
   "id": "97a28c9c",
   "metadata": {},
   "source": [
    "# Plotting Spectra \n",
    "This python notebook is going to outline how to load a fits file containing a spectra and preform basic manipulation and fitting of the data "
   ]
  },
  {
   "cell_type": "code",
   "execution_count": null,
   "id": "d87af664",
   "metadata": {},
   "outputs": [],
   "source": [
    "#We will need several notebooks\n",
    "import matplotlib.pyplot as plt #used to plot the spectra\n",
    "import numpy as np #very useful for manipulating arrays\n",
    "from astropy.io import fits #used to import fits files"
   ]
  },
  {
   "cell_type": "markdown",
   "id": "e866d863",
   "metadata": {},
   "source": [
    "**Flexible Image Transport System (FITS)** is an open standard defining a digital file format useful for storage, transmission and processing of data: formatted as multi-dimensional arrays (for example a 2D image), or tables.\n",
    "\n",
    "This is the standard way in which images and spectra are stored in astronomy. The FITS file format has a header which contains useful information about the data including when the observation occured, what time the observation occured, what telescope was used for the observation, ect. The second part is the data. The data can be in many formats including a simple 2D array (an image) or a cube. "
   ]
  },
  {
   "cell_type": "code",
   "execution_count": null,
   "id": "3fae1863",
   "metadata": {},
   "outputs": [],
   "source": [
    "#Our first step will be to open the FITS file. You were provided a spectrum of the Sun. The file is titled 884752_melchiors_spectrum.fits\n",
    "# The data is from Melchiors which is a library of science ready high-resolution spectra. https://www.royer.se/melchiors.html\n",
    "hdul = fits.open('884752_melchiors_spectrum.fits')\n",
    "#this will print the information that is displayed in the FITS file.\n",
    "hdul.info()"
   ]
  },
  {
   "cell_type": "code",
   "execution_count": null,
   "id": "cc7a8bc5",
   "metadata": {
    "scrolled": false
   },
   "outputs": [],
   "source": [
    "#next you need to investigate the headers so you can learn about what format the spectra is being presented in.\n",
    "#execute the next line. It will print the entire header in the first hdu\n",
    "#note that python uses zero indexing meaning the first instance of something is zero not 1\n",
    "print(repr(hdul[0].header))"
   ]
  },
  {
   "cell_type": "code",
   "execution_count": null,
   "id": "b18cbb2f",
   "metadata": {},
   "outputs": [],
   "source": [
    "#Lets now look at the next header which has even more information\n",
    "#this header is associated with the data as the data for this FITS file is storred in the second HDU \n",
    "#. (which is 1 with python zero indexing)\n",
    "\n",
    "#note that there are 7 rows of information, TTYPE# is saying what is in each element of the list. \n",
    "#. We want to use the normalized flux\n",
    "print(repr(hdul[1].header))"
   ]
  },
  {
   "cell_type": "code",
   "execution_count": null,
   "id": "078bffb5",
   "metadata": {},
   "outputs": [],
   "source": [
    "#the python notebook we are using through a browser doesn't like the spectral data (unsure why)\n",
    "# so I saved the data in a csv file for now.\n",
    "\"\"\"\n",
    "spectrum_list = hdul[1].data #import all of the data\n",
    "#for some reason they put the data in the format of a numpy array that contians lists. Which is very difficult to plot\n",
    "# there is almost certainly a way to plot this better, but this is what I did.\n",
    "#create a numpy array that is three by the length of the spectrum\n",
    "norm_flux = np.zeros((3,len(spectrum_list)))\n",
    "\n",
    "#do a for loop over the length of the spectrum that puts the wavelength, normalized spectrum, and uncertainty into\n",
    "# a useful numpy array\n",
    "for i in range(0,len(spectrum_list)):\n",
    "    norm_flux[0,i] = spectrum_list[i][1]\n",
    "    norm_flux[1,i] = spectrum_list[i][2]\n",
    "    norm_flux[2,i] = spectrum_list[i][3]\n",
    "\"\"\"\n",
    "#Use this part of the code\n",
    "norm_flux = np.genfromtxt(\"sun_normalized_flux.csv\", delimiter=',')"
   ]
  },
  {
   "cell_type": "code",
   "execution_count": null,
   "id": "6a1a46c8",
   "metadata": {},
   "outputs": [],
   "source": [
    "#plot the entire spectrum\n",
    "fig, ax = plt.subplots(figsize=(20, 5)) #make the image wide to make it easier to see the spectrum\n",
    "plt.plot(norm_flux[0],norm_flux[1],'-',color='k')\n",
    "plt.xlabel('Wavelength (Ang)')\n",
    "plt.ylabel('Normalized Flux')\n",
    "plt.show()\n",
    "plt.close()"
   ]
  },
  {
   "cell_type": "code",
   "execution_count": null,
   "id": "4eb7cf42",
   "metadata": {},
   "outputs": [],
   "source": [
    "#plot around H-alpha\n",
    "halpha_lam = 6562.81 #halpha \n",
    "\n",
    "plt.plot(norm_flux[0],norm_flux[1],'-',color='k')\n",
    "plt.xlabel('Wavelength (Ang)')\n",
    "plt.ylabel('Normalized Flux')\n",
    "plt.xlim(halpha_lam - 25, halpha_lam + 25)\n",
    "plt.plot((halpha_lam, halpha_lam), (0.1,0.15),'-',color='r',lw=2) #draw a read line where H-alpha is located\n",
    "plt.show()\n",
    "plt.close()"
   ]
  },
  {
   "cell_type": "code",
   "execution_count": null,
   "id": "fc7646e9",
   "metadata": {},
   "outputs": [],
   "source": [
    "#identify the following lines and create plots for them\n",
    "#Hbeta 4861.34 ang\n",
    "#Calcium H line (Ca+) = 3968.47\n",
    "#Calcium K line (Ca+) = 3933.66\n",
    "#Fe = 5270.39"
   ]
  },
  {
   "cell_type": "code",
   "execution_count": null,
   "id": "470d9be8",
   "metadata": {},
   "outputs": [],
   "source": [
    "line = 5270.39 #halpha \n",
    "\n",
    "plt.plot(norm_flux[0],norm_flux[1],'-',color='k')\n",
    "plt.xlabel('Wavelength (Ang)')\n",
    "plt.ylabel('Normalized Flux')\n",
    "plt.xlim(line - 25, line + 25)\n",
    "#plt.ylim(0.8,1.15)\n",
    "plt.plot((line, line), (0.1,0.15),'-',color='r',lw=2) #draw a read line where the specified line is is located\n",
    "plt.show()\n",
    "plt.close()"
   ]
  },
  {
   "cell_type": "code",
   "execution_count": null,
   "id": "a4d1671a",
   "metadata": {},
   "outputs": [],
   "source": [
    "#Our ultimate goal is to measure the abundances of a star. We are going to start with something like the Sun.\n",
    "#Our first step is to measure the EW of the spectral lines.\n",
    "\n",
    "#define the functions that we might need\n",
    "from scipy.special import wofz\n",
    "#Voigt function\n",
    "def voigt(x, x0, A, sigma, gamma):\n",
    "    \"\"\"\n",
    "    Computes the Voigt line profile.\n",
    "\n",
    "    Parameters\n",
    "    ----------\n",
    "    x : array_like\n",
    "        The independent variable.\n",
    "    sigma : float\n",
    "        The standard deviation of the Gaussian component.\n",
    "    gamma : float\n",
    "        The HWHM of the Lorentzian component.\n",
    "\n",
    "    Returns\n",
    "    -------\n",
    "    array_like\n",
    "        The Voigt profile.\n",
    "    \"\"\"\n",
    "    z = (((x-x0) + 1j * gamma) / (sigma * np.sqrt(2)))\n",
    "    return 1 - A*np.real(wofz(z)) / (sigma * np.sqrt(2 * np.pi))\n",
    "\n",
    "#Gaussian Function\n",
    "def gaussian (x, x0, A, sigma):\n",
    "  return 1 - A*np.exp(-(x-x0)**2/(2*sigma**2))\n",
    "\n",
    "#Lorentzian function\n",
    "def lorentzian (x, x0, A, gamma):\n",
    "  return 1 - A*gamma**2/(np.pi*gamma**2 + ((x-x0)**2))\n",
    "\n",
    "\n",
    "#gaussian area\n",
    "def gaussian_area(A,sigma):\n",
    "    return A*np.sqrt(np.pi*2)*sigma"
   ]
  },
  {
   "cell_type": "code",
   "execution_count": null,
   "id": "70cd019f",
   "metadata": {},
   "outputs": [],
   "source": [
    "line = 6772.31 #halpha\n",
    "width = 10\n",
    "\n",
    "a = np.argmin(np.abs(norm_flux[0,:]-line))\n",
    "\n",
    "# prompt: fit gaussian to data\n",
    "from scipy.optimize import curve_fit\n",
    "\n",
    "popt, pcov = curve_fit(gaussian, norm_flux[0,a-width:a+width], \n",
    "                       norm_flux[1,a-width:a+width], sigma=norm_flux[2,a-width:a+width], \n",
    "                       p0=[line, 0.4, 2], bounds=(0,[np.inf,1.0,np.inf]))\n",
    "perr = np.sqrt(np.diag(pcov))\n",
    "print(popt, perr)\n",
    "\n",
    "output = gaussian (norm_flux[0,a-width:a+width], popt[0], popt[1], popt[2])\n",
    "\n",
    "print('Gaussian EW (ang): ',gaussian_area(popt[1],popt[2]))\n",
    "\n",
    "popt, pcov = curve_fit(lorentzian, norm_flux[0,a-width:a+width], \n",
    "                       norm_flux[1,a-width:a+width], sigma=norm_flux[2,a-width:a+width], \n",
    "                       p0=[line, 0.4, 2])\n",
    "perr = np.sqrt(np.diag(pcov))\n",
    "print(popt, perr)\n",
    "\n",
    "l_output = lorentzian(norm_flux[0,a-width:a+width], popt[0], popt[1], popt[2])\n",
    "\n",
    "popt, pcov = curve_fit(voigt, norm_flux[0,a-width:a+width], \n",
    "                       norm_flux[1,a-width:a+width], sigma=norm_flux[2,a-width:a+width], \n",
    "                       p0=[line, 0.4, 2,2])\n",
    "perr = np.sqrt(np.diag(pcov))\n",
    "print(popt, perr)\n",
    "\n",
    "v_output = voigt(norm_flux[0,a-width:a+width], popt[0], popt[1], popt[2],popt[3])\n",
    "\n",
    "plt.plot(norm_flux[0], norm_flux[1], '-', color='k')\n",
    "plt.plot(norm_flux[0,a-width:a+width], output, '--', color='r')\n",
    "plt.plot(norm_flux[0,a-width:a+width], l_output, '--', color='g')\n",
    "plt.plot(norm_flux[0,a-width:a+width], v_output, '--', color='b')\n",
    "plt.plot((halpha_lam, halpha_lam), (0.1,0.15),'-',color='r',lw=2) #draw a read line where H-alpha is located\n",
    "plt.xlabel('Wavelength (Ang)')\n",
    "plt.ylabel('Normalized Flux')\n",
    "plt.title('Ni line ' + str(line) + ' Ang')\n",
    "plt.xlim(line-2,line+2)\n",
    "#plt.ylim(0.3,1.05)\n",
    "plt.savefig('Ni_line_' + str(line) + '_Ang.png', dpi=300)\n",
    "plt.show()\n",
    "plt.close()"
   ]
  },
  {
   "cell_type": "code",
   "execution_count": null,
   "id": "477d5c86",
   "metadata": {},
   "outputs": [],
   "source": [
    "#spectral lines\n",
    "#6597.56 Fe\n",
    "#6627.54 Fe \n",
    "#6646.93 Fe \n",
    "#6653.91 Fe \n",
    "#6677.99 Fe \n",
    "#6703.57 Fe \n",
    "#6710.32 Fe \n",
    "#6725.36 Fe \n",
    "#6726.67 Fe \n",
    "#6733.15 Fe \n",
    "#6806.86 Fe \n",
    "#6810.27 Fe \n",
    "#6820.37 Fe \n",
    "#6717.68 Ca \n",
    "#6721.85 Si \n",
    "#6643.63 Ni \n",
    "#6767.77 Ni \n",
    "#6772.31 Ni"
   ]
  },
  {
   "cell_type": "code",
   "execution_count": null,
   "id": "7950f71e",
   "metadata": {},
   "outputs": [],
   "source": [
    "np.savetxt(\"sun_normalized_flux.csv\", norm_flux, delimiter=\",\")"
   ]
  },
  {
   "cell_type": "code",
   "execution_count": null,
   "id": "e4812ac7",
   "metadata": {},
   "outputs": [],
   "source": [
    "my_data = np.genfromtxt(\"sun_normalized_flux.csv\", delimiter=',')"
   ]
  },
  {
   "cell_type": "code",
   "execution_count": null,
   "id": "99e3ab35",
   "metadata": {},
   "outputs": [],
   "source": [
    "line = 5270.39 #halpha \n",
    "\n",
    "plt.plot(my_data[0],my_data[1],'-',color='k')\n",
    "plt.xlabel('Wavelength (Ang)')\n",
    "plt.ylabel('Normalized Flux')\n",
    "plt.xlim(line - 25, line + 25)\n",
    "#plt.ylim(0.8,1.15)\n",
    "plt.plot((line, line), (0.1,0.15),'-',color='r',lw=2) #draw a read line where the specified line is is located\n",
    "plt.show()\n",
    "plt.close()"
   ]
  },
  {
   "cell_type": "code",
   "execution_count": null,
   "id": "0eedca2b",
   "metadata": {},
   "outputs": [],
   "source": []
  }
 ],
 "metadata": {
  "kernelspec": {
   "display_name": "Python 3 (ipykernel)",
   "language": "python",
   "name": "python3"
  },
  "language_info": {
   "codemirror_mode": {
    "name": "ipython",
    "version": 3
   },
   "file_extension": ".py",
   "mimetype": "text/x-python",
   "name": "python",
   "nbconvert_exporter": "python",
   "pygments_lexer": "ipython3",
   "version": "3.11.5"
  }
 },
 "nbformat": 4,
 "nbformat_minor": 5
}
