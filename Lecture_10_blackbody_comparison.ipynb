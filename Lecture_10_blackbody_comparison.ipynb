{
 "cells": [
  {
   "cell_type": "markdown",
   "metadata": {},
   "source": [
    "# Lecture 10: Exploring blackbody radiation in wavelength and frequency space\n",
    "\n",
    "Our goal is to take the Planck function and explore the nuances of blackbody radiation in both frequency and wavelength"
   ]
  },
  {
   "cell_type": "code",
   "execution_count": null,
   "metadata": {},
   "outputs": [],
   "source": [
    "#import important constants\n",
    "import astropy.units as u\n",
    "import astropy.constants as c\n",
    "import matplotlib.pyplot as plt\n",
    "import numpy as np"
   ]
  },
  {
   "cell_type": "code",
   "execution_count": null,
   "metadata": {},
   "outputs": [],
   "source": [
    "#Here we define the planck function in both frequency and wavelength space. \n",
    "#  Note that we have integrated over the solid angle so these are flux densities, not specific intensities\n",
    "def planck_function(frequency, temperature):\n",
    "  \"\"\"\n",
    "  Calculates the spectral radiance of a black body in frequency space.\n",
    "\n",
    "  Args:\n",
    "    frequency: The frequency of the emitted radiation in Hz.  Can be a scalar or a numpy array.\n",
    "    temperature: The temperature of the black body in Kelvin.\n",
    "\n",
    "  Returns:\n",
    "    The spectral radiance B(ν, T) in Watts/m^2/Hz.\n",
    "  \"\"\"\n",
    "  #h = 6.626e-34  # Planck constant (J⋅s)\n",
    "  #c = 2.998e8   # Speed of light (m/s)\n",
    "  #k = 1.381e-23  # Boltzmann constant (J/K)\n",
    "\n",
    "  numerator = np.pi * 2 * c.h * ((frequency*u.Hz) ** 3)\n",
    "  denominator = (c.c ** 2) * (np.exp((c.h * frequency*u.Hz) / (c.k_B * temperature*u.K)) - 1)\n",
    "\n",
    "  return (numerator / denominator).to(u.W/u.m/u.m/u.Hz)\n",
    "\n",
    "def planck_function_wave(wavelength, temperature):\n",
    "   \"\"\"\n",
    "   Calculates the spectral radiance of a black body in wavelength space.\n",
    " \n",
    "   Args:\n",
    "     wavelength: The frequency of the emitted radiation in m.  Can be a scalar or a numpy array.\n",
    "     temperature: The temperature of the black body in Kelvin.\n",
    " \n",
    "   Returns:\n",
    "     The spectral radiance B(lambda, T) in W⋅m⁻3.\n",
    "   \"\"\"\n",
    "   #Write the planck function for the planck function as a function of wavelength. \n",
    "   constants = np.pi* 2*c.h*c.c**2/ (wavelength * u.m)**5.\n",
    "   exponential = (np.exp(c.h * c.c/(wavelength * u.m * c.k_B * temperature * u.K)) - 1)\n",
    "\n",
    "   return (constants / exponential).to(u.W/u.m/u.m/u.m) #output in units of Watts per m^3"
   ]
  },
  {
   "cell_type": "markdown",
   "metadata": {},
   "source": [
    "First we are going to plot the planck function in frequency space. Our goal is to measure the peak of the flux density in frequency space."
   ]
  },
  {
   "cell_type": "code",
   "execution_count": null,
   "metadata": {},
   "outputs": [],
   "source": [
    "#Plot the planck function in frequency space. This is\n",
    "freq = np.logspace(11.5,15.5,100)\n",
    "\n",
    "#flux in units of Jy. Not corrected for distance\n",
    "flux_freq = planck_function(freq, 5000.)\n",
    "\n",
    "plt.plot(freq, flux_freq, color='k', lw = 3, label='Planck Function Frequency Space')\n",
    "plt.legend()\n",
    "plt.yscale('log')\n",
    "plt.xscale('log')\n",
    "plt.ylabel('$F_{nu}$ [$W/m^2/Hz$]')\n",
    "plt.xlabel('Frequency [Hz]')\n",
    "plt.title('Planck Function')\n",
    "#plt.ylim((1e9,1e20))\n",
    "plt.show()\n",
    "plt.close()"
   ]
  },
  {
   "cell_type": "code",
   "execution_count": null,
   "metadata": {},
   "outputs": [],
   "source": [
    "#We are going to convert our frequencies into wavelengths\n",
    "freq_to_wave = c.c.value/freq\n",
    "#Find the maximum of the flux density in frequency space\n",
    "print('Max wavelength for B_nu: ', (freq_to_wave[np.argmax(flux_freq)]*u.m).to('AA'))"
   ]
  },
  {
   "cell_type": "markdown",
   "metadata": {},
   "source": [
    "# Question 1\n",
    "Repeat the process but now for wavelength space. The function for flux density in wavelength space is above."
   ]
  },
  {
   "cell_type": "code",
   "execution_count": null,
   "metadata": {},
   "outputs": [],
   "source": [
    "#wavelength \n",
    "wavelength = np.logspace(-7,-3,1000)\n",
    "#Edit the line below\n",
    "flux_wave = #call planck function wave for a star at a temperature of 5000 K\n",
    "\n",
    "plt.plot(wavelength, flux_wave, color='k', lw = 3, label='Planck Function Wavelength Space')\n",
    "plt.legend()\n",
    "plt.yscale('log')\n",
    "plt.xscale('log')\n",
    "plt.xlabel('wavelength (m)')\n",
    "plt.ylabel('$F_{lambda}$ [$W/m^3$]')\n",
    "plt.title('Planck Function')\n",
    "plt.show()\n",
    "plt.close()"
   ]
  },
  {
   "cell_type": "code",
   "execution_count": null,
   "metadata": {},
   "outputs": [],
   "source": [
    "#edit this cell to find the max peak wavelength. Use the same step for frequency above for inspiration\n",
    "\n",
    "print('Max wavelength for B_lambda: ', #place values here)"
   ]
  },
  {
   "cell_type": "markdown",
   "metadata": {},
   "source": [
    "# Question 1A:\n",
    "\n",
    "Compare and contrast the results for the flux densities in both frequency and wavelength space. Answer the following questions. Put your answers in the cell below.\n",
    "\n",
    "1) Where to the peak flux density wavelengths end up in the electromagnetic spectrium? (e.g., green? red? infrared? ect.)\n",
    "\n",
    "2) How different are the wavelengths in Angstroms?\n",
    "\n",
    "3) Would you be able to detect a difference between the two flux densities?"
   ]
  },
  {
   "cell_type": "raw",
   "metadata": {},
   "source": []
  },
  {
   "cell_type": "markdown",
   "metadata": {},
   "source": [
    "Now let us compare the flux densities in frequency and wavelength space directly. I normalized the flux densities so they are easier to compare. The cell below is complete, you just need to run it."
   ]
  },
  {
   "cell_type": "code",
   "execution_count": null,
   "metadata": {},
   "outputs": [],
   "source": [
    "#plot in Flux density in wavelength space\n",
    "plt.plot(wavelength, flux_wave, '-.', \n",
    "         color='b', lw = 3, label='Planck Function wavelength')\n",
    "#plot in Flux density in frequency space\n",
    "plt.plot(freq_to_wave, flux_freq, '--', \n",
    "         color='k', lw = 2, label='Planck Function frequency')\n",
    "plt.legend()\n",
    "plt.yscale('log')\n",
    "plt.xscale('log')\n",
    "plt.xlabel('wavelength (m)')\n",
    "plt.ylabel('Flux Density $(W/m^3$ or $W/m^2/Hz)$')\n",
    "plt.title('Planck Function')\n",
    "plt.show()\n",
    "plt.close()"
   ]
  },
  {
   "cell_type": "markdown",
   "metadata": {},
   "source": [
    "# Question 2\n",
    "Now we want to see what happens when the flux densities are converted into flux. This can be done by writing multiplying by either labmda for F_\\lambda and nu for F_\\nu. I have started the plotting function below. Complete the plotting function."
   ]
  },
  {
   "cell_type": "code",
   "execution_count": null,
   "metadata": {},
   "outputs": [],
   "source": [
    "# Planck function lambda F_\\lambda\n",
    "plt.plot(wavelength, #add y function here, '-.', \n",
    "         color='b', lw = 3, label='Planck Function wavelength')\n",
    "\n",
    "#Plank function nu F_\\nu\n",
    "plt.plot(freq_to_wave, #add y function here, '--', \n",
    "         color='k', lw = 2, label='Planck Function frequency')\n",
    "\n",
    "#things to make the plot pretty\n",
    "plt.legend()\n",
    "plt.yscale('log')\n",
    "plt.xscale('log')\n",
    "plt.xlabel('wavelength (m)')\n",
    "plt.ylabel('Flux $(W/m^2$')\n",
    "plt.title('Planck Function')\n",
    "#plt.ylim((1e9,1e20))\n",
    "plt.show()\n",
    "plt.close()"
   ]
  },
  {
   "cell_type": "markdown",
   "metadata": {},
   "source": [
    "# Question 2A\n",
    "How well do the two functions match now? Compare and contrast in the cell below."
   ]
  },
  {
   "cell_type": "raw",
   "metadata": {},
   "source": [
    "Place answer here"
   ]
  },
  {
   "cell_type": "code",
   "execution_count": null,
   "metadata": {},
   "outputs": [],
   "source": [
    "#Finally, lets find the peak wavelength but now for the Flux rather than the flux density.\n",
    "print('Max wavelength for nu B_nu: ', (#Add code here).to('AA'))\n",
    "print('Max wavelength for lambda B_lambda: ', (#Add code here).to('AA'))"
   ]
  },
  {
   "cell_type": "markdown",
   "metadata": {},
   "source": [
    "# Question 2B \n",
    "How do the new max wavelengths compare in flux space as compared to flux density space? Where to the peak flux  wavelengths end up in the electromagnetic spectrium? (e.g., green? red? infrared? ect.). Place your reflection in the cell below."
   ]
  },
  {
   "cell_type": "markdown",
   "metadata": {},
   "source": [
    "Place Answer Here"
   ]
  },
  {
   "cell_type": "markdown",
   "metadata": {},
   "source": [
    "# Question 2C\n",
    "Wein's displacement law (covered in ASTR 204, not in the book), relates the temperature of an object to the peak wavelength of blackbody radiation. Calculate the peak wavelength then using the cell below then compare the result to what we calculated above using the cell below that."
   ]
  },
  {
   "cell_type": "code",
   "execution_count": null,
   "metadata": {},
   "outputs": [],
   "source": [
    "def wien_displacement_law(Temperature):\n",
    "    #lambda_max = b/Temperature\n",
    "    b = 2.897771955e-3 * u.m * u.K\n",
    "    #returns calculation in units of angstorms\n",
    "    return (b/(Temperature * u.K)).to('AA') \n",
    "\n",
    "Temperature = 5000\n",
    "\n",
    "#call the function to calculate the peak wavelength\n",
    "# print the result"
   ]
  },
  {
   "cell_type": "raw",
   "metadata": {},
   "source": [
    "Place Reflection here"
   ]
  }
 ],
 "metadata": {
  "kernelspec": {
   "display_name": "Python 3",
   "language": "python",
   "name": "python3"
  },
  "language_info": {
   "codemirror_mode": {
    "name": "ipython",
    "version": 3
   },
   "file_extension": ".py",
   "mimetype": "text/x-python",
   "name": "python",
   "nbconvert_exporter": "python",
   "pygments_lexer": "ipython3",
   "version": "3.7.3"
  }
 },
 "nbformat": 4,
 "nbformat_minor": 5
}
