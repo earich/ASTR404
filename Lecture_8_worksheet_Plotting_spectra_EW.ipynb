{
 "cells": [
  {
   "cell_type": "markdown",
   "metadata": {},
   "source": [
    "# Plotting Spectra \n",
    "This python notebook is going to outline how to load a fits file containing a spectra and preform basic manipulation and fitting of the data.\n"
   ]
  },
  {
   "cell_type": "code",
   "execution_count": null,
   "metadata": {},
   "outputs": [],
   "source": [
    "#We will need several notebooks\n",
    "import matplotlib.pyplot as plt #used to plot the spectra\n",
    "import numpy as np #very useful for manipulating arrays\n",
    "from astropy.io import fits #used to import fits files\n",
    "from scipy.special import wofz #needed specifically for the voigt function\n",
    "from scipy.optimize import curve_fit #a pretty good fitting function within the scipy module"
   ]
  },
  {
   "cell_type": "markdown",
   "metadata": {},
   "source": [
    "**Flexible Image Transport System (FITS)** is an open standard defining a digital file format useful for storage, transmission and processing of data: formatted as multi-dimensional arrays (for example a 2D image), or tables.\n",
    "\n",
    "This is the standard way in which images and spectra are stored in astronomy. The FITS file format has a header which contains useful information about the data including when the observation occured, what time the observation occured, what telescope was used for the observation, ect. The second part is the data. The data can be in many formats including a simple 2D array (an image) or a cube. "
   ]
  },
  {
   "cell_type": "code",
   "execution_count": null,
   "metadata": {},
   "outputs": [],
   "source": [
    "#Our first step will be to open the FITS file. You were provided a spectrum of the Sun. The file is titled 884752_melchiors_spectrum.fits\n",
    "# The data is from Melchiors which is a library of science ready high-resolution spectra. https://www.royer.se/melchiors.html\n",
    "hdul = fits.open('884752_melchiors_spectrum.fits')\n",
    "#this will print the information that is displayed in the FITS file.\n",
    "hdul.info()"
   ]
  },
  {
   "cell_type": "code",
   "execution_count": null,
   "metadata": {
    "scrolled": true
   },
   "outputs": [],
   "source": [
    "#next you need to investigate the headers so you can learn about what format the spectra is being presented in.\n",
    "#execute the next line. It will print the entire header in the first hdu\n",
    "#note that python uses zero indexing meaning the first instance of something is zero not 1\n",
    "print(repr(hdul[0].header))"
   ]
  },
  {
   "cell_type": "code",
   "execution_count": null,
   "metadata": {
    "scrolled": true
   },
   "outputs": [],
   "source": [
    "#Lets now look at the next header which has even more information\n",
    "#this header is associated with the data as the data for this FITS file is storred in the second HDU \n",
    "#. (which is 1 with python zero indexing)\n",
    "\n",
    "#note that there are 7 rows of information, TTYPE# is saying what is in each element of the list. \n",
    "#. We want to use the normalized flux\n",
    "print(repr(hdul[1].header))"
   ]
  },
  {
   "cell_type": "code",
   "execution_count": null,
   "metadata": {},
   "outputs": [],
   "source": [
    "#the python notebook we are using through a browser doesn't like the spectral data (unsure why)\n",
    "# so I saved the data in a csv file for now.\n",
    "\"\"\"\n",
    "spectrum_list = hdul[1].data #import all of the data\n",
    "#for some reason they put the data in the format of a numpy array that contians lists. Which is very difficult to plot\n",
    "# there is almost certainly a way to plot this better, but this is what I did.\n",
    "#create a numpy array that is three by the length of the spectrum\n",
    "norm_flux = np.zeros((3,len(spectrum_list)))\n",
    "\n",
    "#do a for loop over the length of the spectrum that puts the wavelength, normalized spectrum, and uncertainty into\n",
    "# a useful numpy array\n",
    "for i in range(0,len(spectrum_list)):\n",
    "    norm_flux[0,i] = spectrum_list[i][1]\n",
    "    norm_flux[1,i] = spectrum_list[i][2]\n",
    "    norm_flux[2,i] = spectrum_list[i][3]\n",
    "\"\"\"\n",
    "#Use this part of the code\n",
    "norm_flux = np.genfromtxt(\"sun_normalized_flux.csv\", delimiter=',')"
   ]
  },
  {
   "cell_type": "code",
   "execution_count": null,
   "metadata": {},
   "outputs": [],
   "source": [
    "#plot the entire spectrum\n",
    "#there are lots of ways to make plots. here is a simple way to do so\n",
    "fig, ax = plt.subplots(figsize=(20, 5)) #make the image wide to make it easier to see the spectrum\n",
    "plt.plot(norm_flux[0],norm_flux[1],'-',color='k') #plot x, y, line type, line color, \n",
    "plt.xlabel('Wavelength (Ang)')\n",
    "plt.ylabel('Normalized Flux')\n",
    "plt.show()\n",
    "plt.close()\n",
    "#important to close your figures or it will be hanging out in memory for a while"
   ]
  },
  {
   "cell_type": "code",
   "execution_count": null,
   "metadata": {},
   "outputs": [],
   "source": [
    "#plot around H-alpha\n",
    "halpha_lam = 6562.81 #halpha \n",
    "\n",
    "#I don't care about the figure size this time, so I didn't declare the figure like I did above\n",
    "plt.plot(norm_flux[0],norm_flux[1],'-',color='k')\n",
    "plt.title('ADD TITLE HERE')\n",
    "plt.xlabel('Wavelength (Ang)')\n",
    "plt.ylabel('Normalized Flux')\n",
    "plt.xlim(halpha_lam - 25, halpha_lam + 25) #I can specify how much of the spectrum I want to plot\n",
    "plt.plot((halpha_lam, halpha_lam), (0.1,0.15),'-',color='r',lw=2) #draw a read line where H-alpha is located\n",
    "#plt.savefig('Ni_line_' + str(halpha_lam) + '_Ang.png', dpi=300)\n",
    "plt.show()\n",
    "plt.close()"
   ]
  },
  {
   "cell_type": "markdown",
   "metadata": {},
   "source": [
    "# Question 1\n",
    "\n",
    "Modifying the cell above, plot the following lines. \n",
    "Make sure to mark where the line is, and add a title to the top of the figure\n",
    "save the figures as a png.\n",
    "\n",
    "identify the following lines and create plots for them\n",
    "\n",
    "Hbeta 4861.34 ang\n",
    "\n",
    "Calcium H line (Ca+) = 3968.47 ang\n",
    "\n",
    "Calcium K line (Ca+) = 3933.66 ang\n",
    "\n",
    "Fe = 5270.39 ang"
   ]
  },
  {
   "cell_type": "code",
   "execution_count": null,
   "metadata": {},
   "outputs": [],
   "source": [
    "#Use this cell for question #1, you can add more cells as necessary. \n",
    "\n"
   ]
  },
  {
   "cell_type": "markdown",
   "metadata": {},
   "source": [
    "# Question 2\n",
    "\n",
    "Explore the sun's spectrum. Are there any features that surprise you? Do all of the major lines we noted above look the same? Are there any features of the spectrum that are possibly dominated by reduction processes? Answer in the cell below."
   ]
  },
  {
   "cell_type": "raw",
   "metadata": {},
   "source": []
  },
  {
   "cell_type": "markdown",
   "metadata": {},
   "source": [
    "\n",
    "\n",
    "# Fitting line profiles\n",
    "\n",
    "Our ultimate goal is to fit line profiles to the spectrum. We will first define the functions that we will need. Then we will use curve.fit to fit the functions to the spectrum."
   ]
  },
  {
   "cell_type": "code",
   "execution_count": null,
   "metadata": {},
   "outputs": [],
   "source": [
    "#Our ultimate goal is to measure the abundances of a star. We are going to start with something like the Sun.\n",
    "#Our first step is to measure the EW of the spectral lines.\n",
    "\n",
    "#define the functions that we might need\n",
    "\n",
    "#You should define functions for anything you might use repeditavly.\n",
    "\n",
    "#Voigt function\n",
    "def voigt(x, x0, A, sigma, gamma):\n",
    "    \"\"\"\n",
    "    Computes the Voigt line profile.\n",
    "\n",
    "    Parameters\n",
    "    ----------\n",
    "    x : array_like\n",
    "        The independent variable.\n",
    "    sigma : float\n",
    "        The standard deviation of the Gaussian component.\n",
    "    gamma : float\n",
    "        The HWHM of the Lorentzian component.\n",
    "\n",
    "    Returns\n",
    "    -------\n",
    "    array_like\n",
    "        The Voigt profile.\n",
    "    \"\"\"\n",
    "    z = (((x-x0) + 1j * gamma) / (sigma * np.sqrt(2)))\n",
    "    return 1 - A*np.real(wofz(z)) / (sigma * np.sqrt(2 * np.pi))\n",
    "\n",
    "#Gaussian Function\n",
    "def gaussian (x, x0, A, sigma):\n",
    "    return 1 - A*np.exp(-(x-x0)**2/(2*sigma**2))\n",
    "\n",
    "#Lorentzian function\n",
    "def lorentzian (x, x0, A, gamma):\n",
    "    return 1 - A*gamma**2/(np.pi*gamma**2 + ((x-x0)**2))\n",
    "\n",
    "#gaussian area\n",
    "def gaussian_area(A,sigma):\n",
    "    return A*np.sqrt(np.pi*2)*sigma"
   ]
  },
  {
   "cell_type": "code",
   "execution_count": null,
   "metadata": {},
   "outputs": [],
   "source": [
    "line = 6597.56 #halpha; wavelength of the line in angstroms\n",
    "width = 10 #width of area you want to fit. Not in angstroms but in the spectral resolution (think pixels)\n",
    "\n",
    "a = np.argmin(np.abs(norm_flux[0,:]-line)) #finding where the line is located in index space\n",
    "\n",
    "# prompt: fit gaussian to data. We are going to use curve fit. We provide it with:\n",
    "# -the function, we defined above (gaussian)\n",
    "# - the wavelength\n",
    "# - the flux,\n",
    "# - the uncertainty in the flux (sigma)\n",
    "# - an estimate of the initail conditions (p0)\n",
    "# - and the bounds\n",
    "#The output is the best fit values (popt) and the covariance matrix (pcov)\n",
    "popt, pcov = curve_fit(gaussian, norm_flux[0,a-width:a+width], \n",
    "                       norm_flux[1,a-width:a+width], sigma=norm_flux[2,a-width:a+width], \n",
    "                       p0=[line, 0.4, 2], bounds=(0,[np.inf,1.0,np.inf]))\n",
    "\n",
    "#taking the diagonal of the function and the square provides you with a\n",
    "#   1-sigma estimate of the uncertainties for each fit parameter\n",
    "perr = np.sqrt(np.diag(pcov)) \n",
    "\n",
    "print('Gaussian estimate of the line: ', popt)\n",
    "print('and associated uncertainty:', perr)\n",
    "\n",
    "#based on the best fit parameters, calculate what the fit line profile would be\n",
    "output = gaussian (norm_flux[0,a-width:a+width], popt[0], popt[1], popt[2])\n",
    "\n",
    "#Finally calculate the area of the gaussian using the best fit parameters\n",
    "# we should probably propogate uncertainty here but we will save that for another day\n",
    "print('Gaussian EW (ang): ',gaussian_area(popt[1],popt[2]))\n",
    "\n",
    "plt.plot(norm_flux[0], norm_flux[1], '-', color='k') #the origional spectrum\n",
    "plt.plot(norm_flux[0,a-width:a+width], output, '--', color='r') #the result of the gaussian fit\n",
    "#plt.plot(norm_flux[0,a-width:a+width], l_output, '--', color='g')\n",
    "plt.plot((halpha_lam, halpha_lam), (0.1,0.15),'-',color='r',lw=2) #draw a read line where H-alpha is located\n",
    "plt.xlabel('Wavelength (Ang)')\n",
    "plt.ylabel('Normalized Flux')\n",
    "plt.title('Fe line ' + str(line) + ' Ang')\n",
    "plt.xlim(line-2,line+2)\n",
    "#plt.ylim(0.3,1.05)\n",
    "plt.savefig('Fe_line_' + str(line) + '_Ang.png', dpi=300) #saving the figure with 300 dots per inch (resolution)\n",
    "plt.show()\n",
    "plt.close()"
   ]
  },
  {
   "cell_type": "code",
   "execution_count": null,
   "metadata": {},
   "outputs": [],
   "source": []
  },
  {
   "cell_type": "markdown",
   "metadata": {},
   "source": [
    "# Question 3\n",
    "\n",
    "Modify the above code (or copy it into a new cell) and fit a lorentzian function to the line.\n",
    "\n",
    "Question: Does the Lorentzian line fit better or worse than the gaussian? Type your answer in the cell below.\n",
    "\n"
   ]
  },
  {
   "cell_type": "raw",
   "metadata": {},
   "source": []
  },
  {
   "cell_type": "markdown",
   "metadata": {},
   "source": [
    "# Question 4\n",
    "\n",
    "Our next goal is to measure the equivalent widths for more lines.\n",
    "\n",
    "Below is a list of potentialy \"well behaved\" lines that have previously been used for successful abundance work.\n",
    "\n",
    "Questions that you want to consider:\n",
    "1) How do you plan to record and store your results?\n",
    "2) How to you plan to verify that each line you measure has a good fit?\n",
    "3) Do you plan to test if each line is best fit by a gaussian?\n",
    "\n",
    "Answer in the cell below\n",
    "\n",
    "6597.56 Fe\n",
    "\n",
    "6627.54 Fe\n",
    "\n",
    "6646.93 Fe \n",
    "\n",
    "6653.91 Fe \n",
    "\n",
    "6677.99 Fe \n",
    "\n",
    "6703.57 Fe \n",
    "\n",
    "6710.32 Fe \n",
    "\n",
    "6725.36 Fe \n",
    "\n",
    "6726.67 Fe \n",
    "\n",
    "6733.15 Fe \n",
    "\n",
    "6806.86 Fe \n",
    "\n",
    "6810.27 Fe \n",
    "\n",
    "6820.37 Fe \n",
    "\n",
    "6717.68 Ca \n",
    "\n",
    "6721.85 Si \n",
    "\n",
    "6643.63 Ni \n",
    "\n",
    "6767.77 Ni \n",
    "\n",
    "6772.31 Ni"
   ]
  },
  {
   "cell_type": "raw",
   "metadata": {},
   "source": []
  },
  {
   "cell_type": "code",
   "execution_count": null,
   "metadata": {},
   "outputs": [],
   "source": [
    "#if you have time, start measuring the EW of the lines noted above."
   ]
  },
  {
   "cell_type": "code",
   "execution_count": null,
   "metadata": {},
   "outputs": [],
   "source": []
  }
 ],
 "metadata": {
  "kernelspec": {
   "display_name": "Python 3",
   "language": "python",
   "name": "python3"
  },
  "language_info": {
   "codemirror_mode": {
    "name": "ipython",
    "version": 3
   },
   "file_extension": ".py",
   "mimetype": "text/x-python",
   "name": "python",
   "nbconvert_exporter": "python",
   "pygments_lexer": "ipython3",
   "version": "3.7.3"
  }
 },
 "nbformat": 4,
 "nbformat_minor": 5
}
