{
 "cells": [
  {
   "cell_type": "markdown",
   "id": "9245b499",
   "metadata": {},
   "source": [
    "# Sun Abundances\n",
    "\n",
    "This code is scaffolded to help you calculate the stellar abundances for the Sun. This same code can be modified to help you calculate the abundances for the stars that are part of your project."
   ]
  },
  {
   "cell_type": "code",
   "execution_count": null,
   "id": "561d03ac",
   "metadata": {},
   "outputs": [],
   "source": [
    "#We will need several notebooks\n",
    "import matplotlib.pyplot as plt #used to plot the spectra\n",
    "import numpy as np #very useful for manipulating arrays\n",
    "from astropy.io import fits #used to import fits files\n",
    "from scipy.special import wofz #needed specifically for the voigt function\n",
    "from scipy.optimize import curve_fit #a pretty good fitting function within the scipy module\n",
    "import pymoog #this is used to calculate the stellar abundances\n",
    "import pandas as pd #this is used to import tabulated data"
   ]
  },
  {
   "cell_type": "code",
   "execution_count": null,
   "id": "a1934372",
   "metadata": {},
   "outputs": [],
   "source": [
    "#Our ultimate goal is to measure the abundances of a star. We are going to start with something like the Sun.\n",
    "#Our first step is to measure the EW of the spectral lines.\n",
    "\n",
    "#define the functions that we might need\n",
    "\n",
    "#You should define functions for anything you might use repeditavly.\n",
    "\n",
    "#Voigt function\n",
    "def voigt(x, x0, A, sigma, gamma):\n",
    "    \"\"\"\n",
    "    Computes the Voigt line profile.\n",
    "\n",
    "    Parameters\n",
    "    ----------\n",
    "    x : array_like\n",
    "        The independent variable.\n",
    "    sigma : float\n",
    "        The standard deviation of the Gaussian component.\n",
    "    gamma : float\n",
    "        The HWHM of the Lorentzian component.\n",
    "\n",
    "    Returns\n",
    "    -------\n",
    "    array_like\n",
    "        The Voigt profile.\n",
    "    \"\"\"\n",
    "    z = (((x-x0) + 1j * gamma) / (sigma * np.sqrt(2)))\n",
    "    return 1 - A*np.real(wofz(z)) / (sigma * np.sqrt(2 * np.pi))\n",
    "\n",
    "#Gaussian Function\n",
    "def gaussian (x, x0, A, sigma):\n",
    "    return 1 - A*np.exp(-(x-x0)**2/(2*sigma**2))\n",
    "\n",
    "#Lorentzian function\n",
    "def lorentzian (x, x0, A, gamma):\n",
    "    return 1 - A*gamma**2/(np.pi*gamma**2 + ((x-x0)**2))\n",
    "\n",
    "#gaussian area\n",
    "def gaussian_area(A,sigma):\n",
    "    return A*np.sqrt(np.pi*2)*sigma"
   ]
  },
  {
   "cell_type": "code",
   "execution_count": null,
   "id": "b0f4f61b",
   "metadata": {},
   "outputs": [],
   "source": [
    "#Our first step will be to open the FITS file. You were provided a spectrum of the Sun. The file is titled 884752_melchiors_spectrum.fits\n",
    "# The data is from Melchiors which is a library of science ready high-resolution spectra. https://www.royer.se/melchiors.html\n",
    "#import the spectrum that you need\n",
    "hdul = fits.open('884752_melchiors_spectrum.fits')\n",
    "#this will print the information that is displayed in the FITS file.\n",
    "hdul.info()\n",
    "\n",
    "print(repr(hdul[0].header))\n",
    "print(repr(hdul[1].header))"
   ]
  },
  {
   "cell_type": "code",
   "execution_count": null,
   "id": "44e373ae",
   "metadata": {},
   "outputs": [],
   "source": [
    "spectrum_list = hdul[1].data #import all of the data\n",
    "#for some reason they put the data in the format of a numpy array that contians lists. Which is very difficult to plot\n",
    "# there is almost certainly a way to plot this better, but this is what I did.\n",
    "#create a numpy array that is three by the length of the spectrum\n",
    "norm_flux = np.zeros((3,len(spectrum_list)))\n",
    "\n",
    "#do a for loop over the length of the spectrum that puts the wavelength, normalized spectrum, and uncertainty into\n",
    "# a useful numpy array\n",
    "for i in range(0,len(spectrum_list)):\n",
    "    norm_flux[0,i] = spectrum_list[i][1]\n",
    "    norm_flux[1,i] = spectrum_list[i][2]\n",
    "    norm_flux[2,i] = spectrum_list[i][3]"
   ]
  },
  {
   "cell_type": "code",
   "execution_count": null,
   "id": "88788b5a",
   "metadata": {},
   "outputs": [],
   "source": [
    "#This cell is the workhorse. You will plot a portion of the spectrum centered at a line you are interested in.\n",
    "#   Then you will be able to fit a gaussian to the line and measure the area of the line.\n",
    "\n",
    "line = 6726.666 #in angstroms\n",
    "width = 10 #width of area you want to fit. Not in angstroms but in the spectral resolution (think pixels)\n",
    "\n",
    "a = np.argmin(np.abs(norm_flux[0,:]-line)) #finding where the line is located in index space\n",
    "\n",
    "# prompt: fit gaussian to data. We are going to use curve fit. We provide it with:\n",
    "# -the function, we defined above (gaussian)\n",
    "# - the wavelength\n",
    "# - the flux,\n",
    "# - the uncertainty in the flux (sigma)\n",
    "# - an estimate of the initail conditions (p0)\n",
    "# - and the bounds\n",
    "#The output is the best fit values (popt) and the covariance matrix (pcov)\n",
    "popt, pcov = curve_fit(gaussian, norm_flux[0,a-width:a+width], \n",
    "                       norm_flux[1,a-width:a+width], sigma=norm_flux[2,a-width:a+width], \n",
    "                       p0=[line, 0.4, 2], bounds=(0,[np.inf,1.0,np.inf]))\n",
    "\n",
    "#taking the diagonal of the function and the square provides you with a\n",
    "#   1-sigma estimate of the uncertainties for each fit parameter\n",
    "perr = np.sqrt(np.diag(pcov)) \n",
    "\n",
    "print('Gaussian estimate of the line: ', popt)\n",
    "print('and associated uncertainty:', perr)\n",
    "\n",
    "#based on the best fit parameters, calculate what the fit line profile would be\n",
    "output = gaussian (norm_flux[0,a-width:a+width], popt[0], popt[1], popt[2])\n",
    "\n",
    "#Finally calculate the area of the gaussian using the best fit parameters\n",
    "# we should probably propogate uncertainty here but we will save that for another day\n",
    "print('Gaussian EW (ang): ',gaussian_area(popt[1],popt[2]))\n",
    "\n",
    "plt.plot(norm_flux[0], norm_flux[1], '-', color='k') #the origional spectrum\n",
    "plt.plot(norm_flux[0,a-width:a+width], output, '--', color='r') #the result of the gaussian fit\n",
    "plt.plot((line, line), (0.1,0.15),'-',color='r',lw=2) #draw a read line where H-alpha is located\n",
    "plt.xlabel('Wavelength (Ang)')\n",
    "plt.ylabel('Normalized Flux')\n",
    "plt.title('Fe line ' + str(line) + ' Ang')\n",
    "plt.xlim(line-2,line+2)\n",
    "#plt.ylim(0.3,1.05)\n",
    "#plt.savefig('Fe_line_' + str(line) + '_Ang.png', dpi=300) #saving the figure with 300 dots per inch (resolution)\n",
    "plt.show()\n",
    "plt.close()"
   ]
  },
  {
   "cell_type": "markdown",
   "id": "dcf3f445",
   "metadata": {},
   "source": [
    "# Repeat the above cell \n",
    "until you have all of the equivalent Widths measured. Once you do, enter the eqvialent widths into the line_list_sun.txt file. Note that the EW need to be in units of milli-angstroms (mA). I encourage you to store these measurements in a spreadhseet or somewhere safe! This is your data. I have provided the first few set of lines. Please measure the EW to verify your results."
   ]
  },
  {
   "cell_type": "code",
   "execution_count": null,
   "id": "e33526d1",
   "metadata": {},
   "outputs": [],
   "source": [
    "#Load the line_list_sun.txt file that contains all of the equivalent widths you have entered.\n",
    "line_list = pd.read_csv('line_list_example.txt', sep=\"\\s+\")\n",
    "#line_list = pd.read_csv('line_list_sun.txt', sep=\"\\s+\")\n",
    "print(line_list)"
   ]
  },
  {
   "cell_type": "code",
   "execution_count": null,
   "id": "bdcd5c2e",
   "metadata": {},
   "outputs": [],
   "source": [
    "#This runs pymoog! You will enter the line_list that you have provided \n",
    "#pymoog abfind\n",
    "#                      Temperature [K], log(g) [cgs], [M/H], vmicro=microscopic velocity [0-2], linelist \n",
    "a = pymoog.abfind.abfind(5770, 4.4, 0, vmicro=1.5, line_list=line_list)\n",
    "a.prepare_file()\n",
    "a.run_moog()\n",
    "a.read_output()"
   ]
  },
  {
   "cell_type": "code",
   "execution_count": null,
   "id": "04cf2272",
   "metadata": {},
   "outputs": [],
   "source": [
    "#Print the results.\n",
    "#The results are organized by element (atomic number).\n",
    "a.abfind_res"
   ]
  },
  {
   "cell_type": "code",
   "execution_count": null,
   "id": "5fa14350",
   "metadata": {},
   "outputs": [],
   "source": [
    "#plot the results\n",
    "#you can change which element you are plotting by changing the atomic weight (element) below\n",
    "element = 26\n",
    "\n",
    "plt.plot(a.abfind_res[element]['EP'], a.abfind_res[element]['abund'],'o')\n",
    "plt.plot((np.min(a.abfind_res[element]['EP']),np.max(a.abfind_res[element]['EP'])), \n",
    "          (np.average(a.abfind_res[element]['abund']),np.average(a.abfind_res[element]['abund'])), '--',color='r')\n",
    "plt.xlabel('Excitation Potential')\n",
    "plt.ylabel('Abundance')\n",
    "plt.show()\n",
    "plt.close()\n",
    "\n",
    "plt.plot(a.abfind_res[element]['logRWin'], a.abfind_res[element]['abund'],'o')\n",
    "plt.plot((np.min(a.abfind_res[element]['logRWin']),np.max(a.abfind_res[element]['logRWin'])), \n",
    "          (np.average(a.abfind_res[element]['abund']),np.average(a.abfind_res[element]['abund'])), '--',color='r')\n",
    "plt.xlabel('Reduced Equivalent Width')\n",
    "plt.ylabel('Abundance')\n",
    "plt.show()\n",
    "plt.close()\n",
    "\n",
    "print('Average Abundance of ', element, ' = ', np.average(a.abfind_res[element]['abund']), \n",
    "      '+/-', np.std(a.abfind_res[element]['abund']))"
   ]
  },
  {
   "cell_type": "code",
   "execution_count": null,
   "id": "a29e3b17",
   "metadata": {},
   "outputs": [],
   "source": [
    "# calculate the average abundances for all of the elemental lines observed.\n",
    "for element in a.abfind_res.keys():\n",
    "    print('Average Abundance of ', element, ' = ', np.average(a.abfind_res[element]['abund']), \n",
    "          '+/-', np.std(a.abfind_res[element]['abund']))"
   ]
  },
  {
   "cell_type": "markdown",
   "id": "4c0b45f6",
   "metadata": {},
   "source": [
    "# Change the fundamental parameters\n",
    "Go back to the cell where you ran moog. Change the fundamental parameters "
   ]
  },
  {
   "cell_type": "markdown",
   "id": "485501fb",
   "metadata": {},
   "source": [
    "# Assess the lines, are all of these lines good lines?\n",
    "Remember this is real data! Individual lines can be affected by blending with other lines, having noise or artifiacts from the Earths atmosphere. That is why we use multiple lines. We may have to throw out a line if we believe it is not behaving like it should! "
   ]
  },
  {
   "cell_type": "markdown",
   "id": "dacfd846",
   "metadata": {},
   "source": [
    "# Compare your results to the accepted abundances of the Sun"
   ]
  },
  {
   "cell_type": "code",
   "execution_count": null,
   "id": "90f2a58f",
   "metadata": {},
   "outputs": [],
   "source": []
  },
  {
   "cell_type": "code",
   "execution_count": null,
   "id": "4fcc3a51",
   "metadata": {},
   "outputs": [],
   "source": []
  }
 ],
 "metadata": {
  "kernelspec": {
   "display_name": "Python 3 (ipykernel)",
   "language": "python",
   "name": "python3"
  },
  "language_info": {
   "codemirror_mode": {
    "name": "ipython",
    "version": 3
   },
   "file_extension": ".py",
   "mimetype": "text/x-python",
   "name": "python",
   "nbconvert_exporter": "python",
   "pygments_lexer": "ipython3",
   "version": "3.11.5"
  }
 },
 "nbformat": 4,
 "nbformat_minor": 5
}
