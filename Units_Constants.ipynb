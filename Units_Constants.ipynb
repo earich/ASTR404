{
 "cells": [
  {
   "cell_type": "markdown",
   "metadata": {},
   "source": [
    "# Units and Constants\n",
    "In the Astropy module, there are two portions of constants and units. These can be extremely powerful when you have a lot of calculations that constants and units are really important."
   ]
  },
  {
   "cell_type": "code",
   "execution_count": 1,
   "metadata": {},
   "outputs": [],
   "source": [
    "import astropy.units as u\n",
    "import astropy.constants as c"
   ]
  },
  {
   "cell_type": "code",
   "execution_count": 2,
   "metadata": {},
   "outputs": [
    {
     "name": "stdout",
     "output_type": "stream",
     "text": [
      "  Name   = Speed of light in vacuum\n",
      "  Value  = 299792458.0\n",
      "  Uncertainty  = 0.0\n",
      "  Unit  = m / s\n",
      "  Reference = CODATA 2018\n"
     ]
    }
   ],
   "source": [
    "#lets first start with our very good friend speed of light\n",
    "#lets first print the value\n",
    "print(c.c)"
   ]
  },
  {
   "cell_type": "code",
   "execution_count": 3,
   "metadata": {},
   "outputs": [
    {
     "name": "stdout",
     "output_type": "stream",
     "text": [
      "149896229.0 m / s\n"
     ]
    }
   ],
   "source": [
    "#if we multiply c times 0.5, you can see that not only does it do the math, but it also keeps the units\n",
    "print(c.c*0.5)"
   ]
  },
  {
   "cell_type": "code",
   "execution_count": 4,
   "metadata": {},
   "outputs": [
    {
     "name": "stdout",
     "output_type": "stream",
     "text": [
      "3.3356409519815204e-09 s\n"
     ]
    }
   ],
   "source": [
    "#but I can combine that with units. \n",
    "# For instance, if I wanted to calculate the amount of time it takes a photon to travel 1 meter\n",
    "# It will propogate the units for me\n",
    "\n",
    "#t = x/c\n",
    "t = 1.0*u.m/c.c\n",
    "print(t)"
   ]
  },
  {
   "cell_type": "code",
   "execution_count": 5,
   "metadata": {},
   "outputs": [
    {
     "name": "stdout",
     "output_type": "stream",
     "text": [
      "3.3356409519815204e-09 km s / m\n"
     ]
    }
   ],
   "source": [
    "#But what if it was 1 km?\n",
    "t = 1.0*u.km/c.c\n",
    "print(t)"
   ]
  },
  {
   "cell_type": "code",
   "execution_count": 6,
   "metadata": {
    "scrolled": true
   },
   "outputs": [
    {
     "name": "stdout",
     "output_type": "stream",
     "text": [
      "3.3356409519815205e-06 s\n"
     ]
    }
   ],
   "source": [
    "# we can decompose the units\n",
    "t = t.decompose()\n",
    "print(t)"
   ]
  },
  {
   "cell_type": "code",
   "execution_count": 7,
   "metadata": {},
   "outputs": [
    {
     "name": "stdout",
     "output_type": "stream",
     "text": [
      "1.0570008340246153e-13 yr\n"
     ]
    }
   ],
   "source": [
    "#finally, you can convert your answer into what ever unit you might want\n",
    "t = t.to('yr')\n",
    "print(t)"
   ]
  },
  {
   "cell_type": "code",
   "execution_count": 8,
   "metadata": {},
   "outputs": [
    {
     "name": "stdout",
     "output_type": "stream",
     "text": [
      "1.0570008340246153e-13 yr\n",
      "1.0570008340246153e-13\n"
     ]
    }
   ],
   "source": [
    "#And eventually, there will come a point where you don't want the units anymore!\n",
    "a = t.value\n",
    "print(t)\n",
    "print(a)"
   ]
  },
  {
   "cell_type": "markdown",
   "metadata": {},
   "source": [
    "You can find a list of units here: https://docs.astropy.org/en/stable/units/standard_units.html\n",
    "\n",
    "and you can find the list of constants here: https://docs.astropy.org/en/latest/constants/index.html"
   ]
  },
  {
   "cell_type": "markdown",
   "metadata": {},
   "source": [
    "# Question 1\n",
    "Using the informration above, calculate the Bohr atom h-alpha wavelength using astropy constants and units. Express your answer in units of angstroms"
   ]
  },
  {
   "cell_type": "code",
   "execution_count": null,
   "metadata": {},
   "outputs": [],
   "source": []
  }
 ],
 "metadata": {
  "kernelspec": {
   "display_name": "Python 3",
   "language": "python",
   "name": "python3"
  },
  "language_info": {
   "codemirror_mode": {
    "name": "ipython",
    "version": 3
   },
   "file_extension": ".py",
   "mimetype": "text/x-python",
   "name": "python",
   "nbconvert_exporter": "python",
   "pygments_lexer": "ipython3",
   "version": "3.7.3"
  }
 },
 "nbformat": 4,
 "nbformat_minor": 2
}
